{
 "cells": [
  {
   "cell_type": "markdown",
   "id": "34e900f6",
   "metadata": {},
   "source": [
    "# LAB - 1\n",
    "## Data structures \n",
    "#### 1. Write a Python program to remove all duplicates from a list and print the unique elements."
   ]
  },
  {
   "cell_type": "code",
   "execution_count": null,
   "id": "1bc13d51",
   "metadata": {},
   "outputs": [
    {
     "name": "stdout",
     "output_type": "stream",
     "text": [
      "Original List provided : ['Samrat', 'Malla', 'Samrat', 'Malla']\n",
      "List with unique elements : ['Malla', 'Samrat']\n"
     ]
    }
   ],
   "source": [
    "# 1) Solution\n",
    "\n",
    "list_input = list(input(\"Enter a list with duplicates : \").split())\n",
    "unique_list = list(set(list_input))\n",
    "print(\"Original List provided :\",list_input)\n",
    "print(\"List with unique elements :\",unique_list)"
   ]
  },
  {
   "cell_type": "markdown",
   "id": "9a31796d",
   "metadata": {},
   "source": [
    "#### 2. Create a tuple of 10 integers. Write a program to display the maximum and minimum numbers from the tuple."
   ]
  },
  {
   "cell_type": "code",
   "execution_count": 9,
   "id": "bc480ddc",
   "metadata": {},
   "outputs": [
    {
     "name": "stdout",
     "output_type": "stream",
     "text": [
      "Max number : 10\n",
      "Min number : 1\n"
     ]
    }
   ],
   "source": [
    "# 2) Solution\n",
    "\n",
    "tuple_input = tuple(map(int,input(\"Enter 10 numbers : \").split()))\n",
    "list_for_operation = list(tuple_input)\n",
    "list_for_operation.sort()\n",
    "print(\"Max number :\",list_for_operation[len(list_for_operation)-1])\n",
    "print(\"Min number :\",list_for_operation[0])\n"
   ]
  },
  {
   "cell_type": "markdown",
   "id": "58d922b7",
   "metadata": {},
   "source": [
    "#### 3. Write a Python function that accepts a list and returns a new list with only the even numbers from the original list."
   ]
  },
  {
   "cell_type": "code",
   "execution_count": 13,
   "id": "809f9995",
   "metadata": {},
   "outputs": [
    {
     "name": "stdout",
     "output_type": "stream",
     "text": [
      "Original list : [1, 2, 3, 4, 5]\n",
      "Even number list : [2, 4]\n"
     ]
    }
   ],
   "source": [
    "# 3) Solution \n",
    "\n",
    "list_input = list(map(int,input(\"Enter numbers : \").split()))\n",
    "list_even = [num for num in list_input if num%2==0]\n",
    "print(\"Original list :\",list_input)\n",
    "print(\"Even number list :\",list_even)\n"
   ]
  },
  {
   "cell_type": "markdown",
   "id": "57be7116",
   "metadata": {},
   "source": [
    "#### 4. Write a program to count the number of each character in a given string using a dictionary."
   ]
  },
  {
   "cell_type": "code",
   "execution_count": 17,
   "id": "6f34184b",
   "metadata": {},
   "outputs": [
    {
     "name": "stdout",
     "output_type": "stream",
     "text": [
      "\n",
      "Frequency counting dictionary :\n",
      " {'S': 1, 'a': 4, 'm': 1, 'r': 1, 't': 1, ' ': 1, 'M': 1, 'l': 2}\n"
     ]
    }
   ],
   "source": [
    "# 4) Solution\n",
    "\n",
    "string_input = input(\"Enter a string : \")\n",
    "dictionary_for_counting = {}\n",
    "for character in string_input:\n",
    "    if character in dictionary_for_counting.keys():\n",
    "        dictionary_for_counting[character] += 1\n",
    "        f = dictionary_for_counting[character]\n",
    "        dictionary_for_counting.update({character:f})\n",
    "    else:\n",
    "        f = 1\n",
    "        dictionary_for_counting.update({character:f})\n",
    "\n",
    "print(\"\\nFrequency counting dictionary :\\n\",dictionary_for_counting)"
   ]
  },
  {
   "cell_type": "markdown",
   "id": "b542c7b2",
   "metadata": {},
   "source": [
    "#### 5. Create a set of prime numbers less than 50. Write a program to check whether a given number exists in the set or not."
   ]
  },
  {
   "cell_type": "code",
   "execution_count": null,
   "id": "58e95079",
   "metadata": {},
   "outputs": [
    {
     "name": "stdout",
     "output_type": "stream",
     "text": [
      "Set of prime numbers : {2, 3, 5, 37, 7, 41, 11, 43, 13, 47, 17, 19, 23, 29, 31}\n",
      "Number is present in set\n"
     ]
    }
   ],
   "source": [
    "# 5) Solution\n",
    "\n",
    "def is_prime(x):\n",
    "    c = 0 \n",
    "    for i in range(1,x+1,1):\n",
    "        if x%i==0:\n",
    "            c+=1\n",
    "    if c==2:\n",
    "        return True\n",
    "    return False\n",
    "\n",
    "list_prime = []\n",
    "for i in range(1,51,1):\n",
    "    if is_prime(i):\n",
    "        list_prime.append(i)\n",
    "\n",
    "set_prime = set(list_prime)\n",
    "print(\"Set of prime numbers :\",set_prime)\n",
    "\n",
    "num = int(input(\"Enter a prime number : \"))\n",
    "if num in set_prime:\n",
    "    print(\"Number is present in set\")\n",
    "else:\n",
    "    print(\"Number isn't present in the set\")\n"
   ]
  },
  {
   "cell_type": "markdown",
   "id": "91541bb0",
   "metadata": {},
   "source": [
    "#### 6. Given two lists, write a program to find their intersection using sets."
   ]
  },
  {
   "cell_type": "code",
   "execution_count": 1,
   "id": "b40446cb",
   "metadata": {},
   "outputs": [
    {
     "name": "stdout",
     "output_type": "stream",
     "text": [
      "Set 1 :  {'Electrical', 'Samrrat', 'Malla', 'Engineer'}\n",
      "Set 2 :  {'Samrat', 'Good', 'Boy', 'Malla'}\n",
      "Intersection set :  {'Malla'}\n"
     ]
    }
   ],
   "source": [
    "# 6) Solution\n",
    "\n",
    "list_1 = list(input(\"Enter values for 1st set : \").split())\n",
    "list_2 = list(input(\"Enter values for 2nd set : \").split())\n",
    "intersection_set = set(list_1).intersection(set(list_2))\n",
    "print(\"Set 1 : \",set(list_1))\n",
    "print(\"Set 2 : \",set(list_2))\n",
    "print(\"Intersection set : \",intersection_set)"
   ]
  },
  {
   "cell_type": "markdown",
   "id": "a6bd4909",
   "metadata": {},
   "source": [
    "#### 7. Write a Python program to merge two dictionaries and sum the values of common keys."
   ]
  },
  {
   "cell_type": "code",
   "execution_count": 15,
   "id": "89bd44d0",
   "metadata": {},
   "outputs": [
    {
     "name": "stdout",
     "output_type": "stream",
     "text": [
      "1st given Dictionary : {'Name': 'Samrat Malla', 'Address': 'Nepal', 'Marks': 69}\n",
      "2nd given Dictionary : {'College': 'Pulchowk', 'Roll number': 73, 'Marks': 1}\n",
      "Combined Dictionary : {'Name': 'Samrat Malla', 'Address': 'Nepal', 'Marks': 70, 'College': 'Pulchowk', 'Roll number': 73}\n"
     ]
    }
   ],
   "source": [
    "# 7) Solution\n",
    "\n",
    "dict_1 = {\"Name\":\"Samrat Malla\",\"Address\":\"Nepal\",\"Marks\":69}\n",
    "dict_2 = {\"College\":\"Pulchowk\",\"Roll number\":73,\"Marks\":1}\n",
    "dict_merged = {}\n",
    "dict_merged.update(dict_1)\n",
    "dict_merged.update(dict_2)\n",
    "for key in dict_1.keys():\n",
    "    if key in dict_2.keys():\n",
    "        combined_value = dict_1[key] + dict_2[key]\n",
    "        dict_merged.update({key:combined_value})\n",
    "print(\"1st given Dictionary :\",dict_1)\n",
    "print(\"2nd given Dictionary :\",dict_2)\n",
    "print(\"Combined Dictionary :\",dict_merged)\n"
   ]
  },
  {
   "cell_type": "markdown",
   "id": "01a33e20",
   "metadata": {},
   "source": [
    "#### 8. Given a list of names, write a program to count how many times each name appears using a dictionary."
   ]
  },
  {
   "cell_type": "code",
   "execution_count": 16,
   "id": "c74e5edc",
   "metadata": {},
   "outputs": [
    {
     "name": "stdout",
     "output_type": "stream",
     "text": [
      "Dicionary Name : {'Samrat': 3, 'Malla': 2}\n"
     ]
    }
   ],
   "source": [
    "# 8) Solution\n",
    "\n",
    "list_names = list(input(\"Enter names : \").split())\n",
    "dict_name = {}\n",
    "for name in list_names:\n",
    "    if name in dict_name.keys():\n",
    "        dict_name[name]+=1\n",
    "        f = dict_name[name]\n",
    "        dict_name.update({name:f})\n",
    "    else:\n",
    "        f = 1\n",
    "        dict_name.update({name:f})\n",
    "print(\"Dicionary Name :\",dict_name)"
   ]
  },
  {
   "cell_type": "markdown",
   "id": "68e568b9",
   "metadata": {},
   "source": [
    "#### 9. Write a Python program to remove elements from a list that are also present in another list."
   ]
  },
  {
   "cell_type": "code",
   "execution_count": 22,
   "id": "c7c76ed4",
   "metadata": {},
   "outputs": [
    {
     "name": "stdout",
     "output_type": "stream",
     "text": [
      "1st given list : [1, 2, 3, 4, 5]\n",
      "2nd given list : [1, 2, 3, 7, 8, 9]\n",
      "Required list : [4, 5]\n"
     ]
    }
   ],
   "source": [
    "# 9) Solution\n",
    "\n",
    "list_1 = list(map(int,input(\"Enter numbers for 1st list : \").split()))\n",
    "list_2 = list(map(int,input(\"Enter numbers for 2nd list : \").split()))\n",
    "list_1_copy = list_1.copy()\n",
    "\n",
    "for num in list_1_copy:\n",
    "    if num in list_2:\n",
    "        list_1.remove(num)\n",
    "    \n",
    "# Iterating over copy as during removal index change so cause error \n",
    "\n",
    "print(\"1st given list :\",list_1_copy)\n",
    "print(\"2nd given list :\",list_2)\n",
    "print(\"Required list :\",list_1)\n"
   ]
  },
  {
   "cell_type": "markdown",
   "id": "1a9f9a28",
   "metadata": {},
   "source": [
    "#### 10. Write a program to input key-value pairs from the user and store them in a dictionary. Allow the user to search for a key and display its value."
   ]
  },
  {
   "cell_type": "code",
   "execution_count": 23,
   "id": "f88f3575",
   "metadata": {},
   "outputs": [
    {
     "name": "stdout",
     "output_type": "stream",
     "text": [
      "\n",
      "\n",
      "Key found ... !\n",
      "Key : Name\n",
      "Value :  Samrat Malla\n"
     ]
    }
   ],
   "source": [
    "# 10) Solution\n",
    "\n",
    "dict_input = {}\n",
    "n = int(input(\"Enter number of key-value pairs : \"))\n",
    "\n",
    "for i in range(n):\n",
    "    key = input(\"Enter key : \")\n",
    "    value = input(\"Enter corresponding value : \")\n",
    "    dict_input.update({key:value})\n",
    "    print()\n",
    "\n",
    "key_search = input(\"Enter key to search : \")\n",
    "if key_search in dict_input.keys():\n",
    "    print(\"Key found ... !\")\n",
    "    print(\"Key :\",key_search)\n",
    "    print(\"Value : \",dict_input[key_search])\n",
    "else:\n",
    "    print(\"Key not found ... !\")\n",
    "    \n"
   ]
  },
  {
   "cell_type": "markdown",
   "id": "2e883a06",
   "metadata": {},
   "source": [
    "## Conditions and Loop\n",
    "#### 1. Write a program to check whether a given number is prime or not."
   ]
  },
  {
   "cell_type": "code",
   "execution_count": 2,
   "id": "b370c3d6",
   "metadata": {},
   "outputs": [
    {
     "name": "stdout",
     "output_type": "stream",
     "text": [
      "Number isn't prime \n"
     ]
    }
   ],
   "source": [
    "# 1) Solution\n",
    "\n",
    "num = int(input(\"Enter a number : \"))\n",
    "c = 0\n",
    "for i in range(1,num+1,1):\n",
    "    if num%i==0:\n",
    "        c+=1\n",
    "\n",
    "if c==2:\n",
    "    print(\"Number is prime \")\n",
    "else:\n",
    "    print(\"Number isn't prime \")\n"
   ]
  },
  {
   "cell_type": "markdown",
   "id": "97bf6c2f",
   "metadata": {},
   "source": [
    "#### 2. Write a program to print all the even numbers between 1 and 100 using a loop."
   ]
  },
  {
   "cell_type": "code",
   "execution_count": null,
   "id": "24098924",
   "metadata": {},
   "outputs": [],
   "source": [
    "# 2) Solution\n",
    "\n",
    "print(\"Even numbers from 1 to 100 : \",end=\"\")\n",
    "for i in range(1,100+1,1):\n",
    "    if i%2==0:\n",
    "        print(i,end=\" \")"
   ]
  },
  {
   "cell_type": "markdown",
   "id": "5cd30116",
   "metadata": {},
   "source": [
    "#### 3. Write a program that reads a number and prints the factorial of that number using a while loop."
   ]
  },
  {
   "cell_type": "code",
   "execution_count": 5,
   "id": "a40c0980",
   "metadata": {},
   "outputs": [
    {
     "name": "stdout",
     "output_type": "stream",
     "text": [
      "Factorial of 5 = 120\n"
     ]
    }
   ],
   "source": [
    "# 3) Solution\n",
    "\n",
    "num = int(input(\"Enter a number : \"))\n",
    "f = 1\n",
    "i = 1\n",
    "while(i<=num):\n",
    "    f = f * i\n",
    "    i += 1\n",
    "print(f\"Factorial of {num} = {f}\")\n"
   ]
  },
  {
   "cell_type": "markdown",
   "id": "74480e96",
   "metadata": {},
   "source": [
    "#### 4. Write a program to print the multiplication table of a given number using a for loop."
   ]
  },
  {
   "cell_type": "code",
   "execution_count": 6,
   "id": "f3642c1e",
   "metadata": {},
   "outputs": [
    {
     "name": "stdout",
     "output_type": "stream",
     "text": [
      "Multiplication table : \n",
      "5 * 1 = 5 \n",
      "5 * 2 = 10 \n",
      "5 * 3 = 15 \n",
      "5 * 4 = 20 \n",
      "5 * 5 = 25 \n",
      "5 * 6 = 30 \n",
      "5 * 7 = 35 \n",
      "5 * 8 = 40 \n",
      "5 * 9 = 45 \n",
      "5 * 10 = 50 \n"
     ]
    }
   ],
   "source": [
    "# 4) Solution\n",
    "\n",
    "num = int(input(\"Enter a number : \"))\n",
    "print(\"Multiplication table : \")\n",
    "for i in range(1,11,1):\n",
    "    print(f\"{num} * {i} = {num*i} \")\n",
    "\n"
   ]
  },
  {
   "cell_type": "markdown",
   "id": "b7fedb85",
   "metadata": {},
   "source": [
    "#### 5. Write a program to find the largest and smallest number in a list entered by the user."
   ]
  },
  {
   "cell_type": "code",
   "execution_count": 8,
   "id": "a7ff13c2",
   "metadata": {},
   "outputs": [
    {
     "name": "stdout",
     "output_type": "stream",
     "text": [
      "List given :  [1, 2, 3, 4, 5]\n",
      "Largest number :  5\n",
      "Smallest number :  1\n"
     ]
    }
   ],
   "source": [
    "# 5) Solution\n",
    "\n",
    "list_input = list(map(int,input(\"Enter numbers : \").split()))\n",
    "list_input.sort()\n",
    "print(\"List given : \",list_input)\n",
    "print(\"Largest number : \",list_input[len(list_input)-1])\n",
    "print(\"Smallest number : \",list_input[0])"
   ]
  },
  {
   "cell_type": "markdown",
   "id": "85c24b5e",
   "metadata": {},
   "source": [
    "#### 6. Write a program that accepts 10 integers from the user and counts how many are positive, negative, and zero."
   ]
  },
  {
   "cell_type": "code",
   "execution_count": 10,
   "id": "d6a0e0e1",
   "metadata": {},
   "outputs": [
    {
     "name": "stdout",
     "output_type": "stream",
     "text": [
      "Given numbers : [1, 2, 3, 4, 5, 6, 7, 8, 9, 0, 0, 0]\n",
      "Positive numbers :  [1, 2, 3, 4, 5, 6, 7, 8, 9]\n",
      "Number : 9\n",
      "Negative numbers :  []\n",
      "Number : 0\n",
      "Zero numbers :  [0, 0, 0]\n",
      "Number : 3\n"
     ]
    }
   ],
   "source": [
    "# 6) Solution\n",
    "\n",
    "list_number = list(map(int,input(\"Enter numbers : \").split()))\n",
    "list_positive = [num for num in list_number if num>0]\n",
    "list_negative = [num for num in list_number if num<0]\n",
    "list_zero = [num for num in list_number if num==0]\n",
    "print(\"Given numbers :\",list_number)\n",
    "print(\"Positive numbers : \",list_positive)\n",
    "print(\"Number :\",len(list_positive))\n",
    "print(\"Negative numbers : \",list_negative)\n",
    "print(\"Number :\",len(list_negative))\n",
    "print(\"Zero numbers : \",list_zero)\n",
    "print(\"Number :\",len(list_zero))\n"
   ]
  },
  {
   "cell_type": "markdown",
   "id": "342f9b40",
   "metadata": {},
   "source": [
    "#### 7. Write a program to generate the Fibonacci sequence up to n terms."
   ]
  },
  {
   "cell_type": "code",
   "execution_count": 12,
   "id": "9fd01059",
   "metadata": {},
   "outputs": [
    {
     "name": "stdout",
     "output_type": "stream",
     "text": [
      "Fibonacci sequence : 0 1 1 2 3 5 8 "
     ]
    }
   ],
   "source": [
    "# 7) Solution\n",
    "\n",
    "n = int(input(\"Enter number of terms : \"))\n",
    "a = 0\n",
    "b = 1\n",
    "print(\"Fibonacci sequence : \",end = \"\")\n",
    "print(a,b,end = \" \")\n",
    "for i in range(n-2):\n",
    "    c = a + b\n",
    "    print(c,end =\" \")\n",
    "    a = b\n",
    "    b = c\n",
    "\n"
   ]
  },
  {
   "cell_type": "markdown",
   "id": "0f47433d",
   "metadata": {},
   "source": [
    "#### 8. Write a program that reads a number and prints whether it is a palindrome or not."
   ]
  },
  {
   "cell_type": "code",
   "execution_count": null,
   "id": "c980e9ae",
   "metadata": {},
   "outputs": [
    {
     "name": "stdout",
     "output_type": "stream",
     "text": [
      "Given number : 102\n",
      "Not Palindrome \n"
     ]
    }
   ],
   "source": [
    "# 8) Solution\n",
    "\n",
    "num = int(input(\"Enter a number : \"))\n",
    "print(\"Given number :\",num)\n",
    "num_reverse = int(str(num)[::-1])\n",
    "if num == num_reverse:\n",
    "    print(\"Number is Palindrome \")\n",
    "else:\n",
    "    print(\"NUmber isn't Palindrome \")\n"
   ]
  },
  {
   "cell_type": "markdown",
   "id": "691b0e60",
   "metadata": {},
   "source": [
    "#### 9. Write a program that finds all numbers between 100 and 999 where the sum of the cubes of the digits equals the number itself (Armstrong numbers)."
   ]
  },
  {
   "cell_type": "code",
   "execution_count": 16,
   "id": "db4de097",
   "metadata": {},
   "outputs": [
    {
     "name": "stdout",
     "output_type": "stream",
     "text": [
      "Armstrong numbers in [100,999] : 153 370 371 407 "
     ]
    }
   ],
   "source": [
    "# 9) Solution\n",
    "\n",
    "def armstrong_check(x):\n",
    "    s = 0\n",
    "    num = x\n",
    "    while x!=0:\n",
    "        r = x%10\n",
    "        s = s + (r**3)\n",
    "        x //= 10\n",
    "    if s == num:\n",
    "        return True\n",
    "    else:\n",
    "        return False\n",
    "    \n",
    "print(\"Armstrong numbers in [100,999] : \",end = \"\")\n",
    "for i in range(100,1000,1):\n",
    "    if armstrong_check(i):\n",
    "        print(i,end=\" \")\n",
    "\n"
   ]
  },
  {
   "cell_type": "markdown",
   "id": "3f130a59",
   "metadata": {},
   "source": [
    "#### 10. Write a menu-driven program to perform arithmetic operations (+, -, *, /) based on user choice using conditional statements."
   ]
  },
  {
   "cell_type": "code",
   "execution_count": null,
   "id": "4d326b87",
   "metadata": {},
   "outputs": [],
   "source": [
    "# 10) Solution\n",
    "\n",
    "print(\"... WELCOME TO SIMPLE CALCULATOR ... \")\n",
    "while True :\n",
    "    print(\"Dear user, please enter the required values : \")\n",
    "    a,b = map(int,input(\"Enter two numbers : \").split())\n",
    "    print()\n",
    "    print(\"Which operation you want to perform ?\\n\")\n",
    "    print(f\"\\n+----------+-----------+\")\n",
    "    print(f\"|{'Action':10}| {'Option':10}|\")\n",
    "    print(f\"+----------+-----------+\")\n",
    "    print(f\"|{' / ':10}| {' 1 ':10}|\")\n",
    "    print(f\"+----------+-----------+\")\n",
    "    print(f\"|{' * ':10}| {' 2':10}|\")\n",
    "    print(f\"+----------+-----------+\")\n",
    "    print(f\"|{' + ':10}| {' 3':10}|\")\n",
    "    print(f\"+----------+-----------+\")\n",
    "    print(f\"|{' - ':10}| {' 4':10}|\")\n",
    "    print(f\"+----------+-----------+\\n\")\n",
    "\n",
    "    while True:\n",
    "        choice = int(input(\"Enter choice : \"))\n",
    "        if choice <1 or choice >4:\n",
    "            print(\"--- INVALID CHOICE ---\")\n",
    "            print(\"--- RE-ENTER --- \")\n",
    "        else:\n",
    "            break\n",
    "\n",
    "    print()\n",
    "    if choice == 1:\n",
    "        if b ==0 :\n",
    "            print(\"--- ZERO DIVISION ERROR --- \")\n",
    "        else :\n",
    "            print(\"DIVISION : \",round(a/b,3))\n",
    "    elif choice == 2:\n",
    "        print(\"MULTIPLICATION : \",a*b)\n",
    "    elif choice == 3:\n",
    "        print(\"ADDITION : \",a+b)\n",
    "    elif choice == 4:\n",
    "        print(\"SUBTRACTION : \",a-b)\n",
    "\n",
    "    print(\"\\nPlease enter your option \")\n",
    "    print(f\"\\n+----------+-----------+\")\n",
    "    print(f\"|{' Action':10}| {'Options':10}|\")\n",
    "    print(f\"+----------+-----------+\")\n",
    "    print(f\"|{' CONTINUE':10}| {' 1 ':10}|\")\n",
    "    print(f\"+----------+-----------+\")\n",
    "    print(f\"|{' EXIT':10}| {' 2':10}|\")\n",
    "    print(f\"+----------+-----------+\\n\")\n",
    "\n",
    "    while True :\n",
    "        choice = int(input(\"Enter choice : \"))\n",
    "        if choice !=1 and choice!=2:\n",
    "            print(\"--- INVALID CHOICE ---\")\n",
    "            print(\"--- RE-ENTER --- \")\n",
    "        else:\n",
    "            break\n",
    "    \n",
    "    if choice ==2:\n",
    "        print(\"\\n--- THANK-YOU USER ---\")\n",
    "        print(\"... EXITING ...\\n\")\n",
    "        exit()\n",
    "    \n",
    "    if choice == 1:\n",
    "        continue"
   ]
  }
 ],
 "metadata": {
  "kernelspec": {
   "display_name": "Python 3",
   "language": "python",
   "name": "python3"
  },
  "language_info": {
   "codemirror_mode": {
    "name": "ipython",
    "version": 3
   },
   "file_extension": ".py",
   "mimetype": "text/x-python",
   "name": "python",
   "nbconvert_exporter": "python",
   "pygments_lexer": "ipython3",
   "version": "3.11.9"
  }
 },
 "nbformat": 4,
 "nbformat_minor": 5
}
