{
 "cells": [
  {
   "cell_type": "markdown",
   "id": "a627c2c3",
   "metadata": {},
   "source": [
    "## LAB - 5\n",
    "\n",
    "#### 1. Create a class Book with attributes title, author, and price. Write a constructor to initialize these values and create an object with sample data. ● Add a method display_info() to the Book class that prints the book's title, author, and price. Call this method using a Book object. ● Add a method update_price(new_price) to the Book class that updates the book's price. Demonstrate how to use it with an object."
   ]
  },
  {
   "cell_type": "code",
   "execution_count": 4,
   "id": "a25eebdb",
   "metadata": {},
   "outputs": [
    {
     "name": "stdout",
     "output_type": "stream",
     "text": [
      "\n",
      "--- BOOK INFORMATION ---\n",
      "TITLE :  \n",
      "AUTHOR :  \n",
      "PRICE :  \n",
      "\n",
      "--- BOOK INFORMATION ---\n",
      "TITLE :  \n",
      "AUTHOR :  \n",
      "PRICE :  \n"
     ]
    }
   ],
   "source": [
    "# 1) Solution\n",
    "\n",
    "class Book():\n",
    "\n",
    "    def __init__(self,title,author,price):\n",
    "        self.title = title\n",
    "        self.author = author\n",
    "        self.price = price\n",
    "\n",
    "    def display_information(self):\n",
    "        print(\"\\n--- BOOK INFORMATION ---\")\n",
    "        print(\"TITLE : \",self.title)\n",
    "        print(\"AUTHOR : \",self.author)\n",
    "        print(\"PRICE : \",self.price)\n",
    "\n",
    "    def update_price(self,price_new):\n",
    "        self.price = price_new\n",
    "\n",
    "title = input(\"Enter book title : \")\n",
    "author = input(\"Enter book author : \")\n",
    "price = input(\"Enter book price : \")\n",
    "\n",
    "book_object = Book(title,author,price)\n",
    "book_object.display_information()\n",
    "\n",
    "price_new = input(\"\\nEnter new price : \")\n",
    "book_object.update_price(price_new)\n",
    "\n",
    "book_object.display_information()\n",
    "\n",
    "\n"
   ]
  },
  {
   "cell_type": "markdown",
   "id": "c6358bf1",
   "metadata": {},
   "source": [
    "#### 2. Create a class Student with attributes name and marks. Create three objects of the class and display their details using a method show_details()."
   ]
  },
  {
   "cell_type": "code",
   "execution_count": 5,
   "id": "e80652b6",
   "metadata": {},
   "outputs": [
    {
     "name": "stdout",
     "output_type": "stream",
     "text": [
      "DISPLAYING STUDENT DETAILS :\n",
      "\n",
      "--- STUDENT INFORMATION ---\n",
      "Name :  \n",
      "Marks :  \n",
      "\n",
      "--- STUDENT INFORMATION ---\n",
      "Name :  \n",
      "Marks :  \n",
      "\n",
      "--- STUDENT INFORMATION ---\n",
      "Name :  \n",
      "Marks :  \n"
     ]
    }
   ],
   "source": [
    "# 2) Solution :\n",
    "\n",
    "class Student():\n",
    "\n",
    "    def __init__(self,name,marks):\n",
    "        self.name = name\n",
    "        self.marks = marks\n",
    "\n",
    "    def show_details(self):\n",
    "        print(\"\\n--- STUDENT INFORMATION ---\")\n",
    "        print(\"Name : \",self.name)\n",
    "        print(\"Marks : \",self.marks)\n",
    "\n",
    "\n",
    "obj_list = []\n",
    "\n",
    "for i in range(1,3+1):\n",
    "    name = input(f\"Enter name of student {i} : \")\n",
    "    marks = input(f\"Enter marks of student {i} : \")\n",
    "    student_obj = Student(name,marks)\n",
    "    obj_list.append(student_obj)\n",
    "\n",
    "print(\"DISPLAYING STUDENT DETAILS :\")\n",
    "for obj in obj_list:\n",
    "    obj.show_details()\n",
    "\n",
    "\n"
   ]
  },
  {
   "cell_type": "markdown",
   "id": "6a25d90a",
   "metadata": {},
   "source": [
    "#### 3. Create a class BankAccount with attributes account_holder, account_number, and balance. ● Add methods deposit(amount) and withdraw(amount) that update the balance. ● Add a method show_balance() that prints the current balance. ● Create an object and perform a deposit, a withdrawal, and show the balance."
   ]
  },
  {
   "cell_type": "code",
   "execution_count": 11,
   "id": "54335a2b",
   "metadata": {},
   "outputs": [
    {
     "name": "stdout",
     "output_type": "stream",
     "text": [
      "\n",
      "+--------+-------------------+\n",
      "| Number | Action to Perform |\n",
      "+--------+-------------------+\n",
      "|  1.    | DEPOSITE          |\n",
      "+--------+-------------------+\n",
      "|  2.    | WITHDRAW          |\n",
      "+--------+-------------------+\n",
      "\n",
      "--- SHOWING CURRENT BALANCE ---\n",
      "Current balance : 4000 R.s.\n"
     ]
    }
   ],
   "source": [
    "# 3) Solution \n",
    "\n",
    "class BankAccount():\n",
    "\n",
    "    def __init__(self,account_holder,account_number,balace):\n",
    "        self.account_holder = account_holder\n",
    "        self.account_number = account_number\n",
    "        self.balance = balace\n",
    "\n",
    "    def deposite_amount(self,amount):\n",
    "        self.balance += amount\n",
    "\n",
    "    def withdraw_amount(self,amount):\n",
    "        if self.balance < amount :\n",
    "            print(\"\\n--- NOT SUFFICIENT BALANCE ---\")\n",
    "            return\n",
    "        self.balance -= amount\n",
    "    \n",
    "    def show_balance(self) :\n",
    "        print(\"\\n--- SHOWING CURRENT BALANCE ---\")\n",
    "        print(\"Current balance :\",self.balance,\"R.s.\")\n",
    "\n",
    "    \n",
    "account_holder = input(\"Enter name of account holder : \")\n",
    "account_number = input(\"Enter account number : \")\n",
    "balance = int(input(\"Enter balance amount : \"))\n",
    "obj = BankAccount(account_holder,account_number,balance)\n",
    "\n",
    "print(\"\\n+--------+-------------------+\")\n",
    "print(f\"| {'Number':6} | {'Action to Perform':18}|\")\n",
    "print(\"+--------+-------------------+\")\n",
    "print(f\"| {' 1.':6} | {'DEPOSITE':18}|\")\n",
    "print(\"+--------+-------------------+\")\n",
    "print(f\"| {' 2.':6} | {'WITHDRAW':18}|\")\n",
    "print(\"+--------+-------------------+\")\n",
    "\n",
    "while True :\n",
    "    choice = int(input(\"\\nPlease enter your choice : \"))\n",
    "    if choice!=1 and choice!=2 :\n",
    "        print(\"... Invalid input ... \")\n",
    "        print(\"... Re-enter your input ... \")\n",
    "        choice = int(input(\"Please enter your choice as per above : \"))        \n",
    "    else:\n",
    "        break\n",
    "\n",
    "if choice == 1:\n",
    "    cash = int(input(\"\\nEnter cash to deposite : \"))\n",
    "    obj.deposite_amount(cash)\n",
    "    obj.show_balance()\n",
    "\n",
    "\n",
    "if choice == 2:\n",
    "    cash = int(input(\"\\nEnter cash to withdraw : \"))\n",
    "    obj.withdraw_amount(cash)\n",
    "    obj.show_balance()\n",
    "    \n",
    "\n",
    "\n",
    "\n",
    "\n",
    "        "
   ]
  }
 ],
 "metadata": {
  "kernelspec": {
   "display_name": "Python 3",
   "language": "python",
   "name": "python3"
  },
  "language_info": {
   "codemirror_mode": {
    "name": "ipython",
    "version": 3
   },
   "file_extension": ".py",
   "mimetype": "text/x-python",
   "name": "python",
   "nbconvert_exporter": "python",
   "pygments_lexer": "ipython3",
   "version": "3.11.9"
  }
 },
 "nbformat": 4,
 "nbformat_minor": 5
}
