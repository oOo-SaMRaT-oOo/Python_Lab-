{
 "cells": [
  {
   "cell_type": "markdown",
   "id": "de11c02a",
   "metadata": {},
   "source": [
    "## LAB - 3\n",
    "\n",
    "#### 1. Write a Python function named greet_user that takes a user's name and prints: Hello, name! Welcome to Python. Call the function with a sample name."
   ]
  },
  {
   "cell_type": "code",
   "execution_count": 1,
   "id": "41f8020f",
   "metadata": {},
   "outputs": [
    {
     "name": "stdout",
     "output_type": "stream",
     "text": [
      "Given name :  Samrat Malla\n",
      "Hello, Samrat Malla ! Welcome to Python ... !\n"
     ]
    }
   ],
   "source": [
    "# 1) Solution\n",
    "\n",
    "def greet_user(name,msg = \"Hello\"):\n",
    "    print(f\"{msg}, {name} ! Welcome to Python ... !\")\n",
    "\n",
    "name = input(\"Enter a sample name : \")\n",
    "print(\"Given name : \",name)\n",
    "greet_user(name)\n"
   ]
  },
  {
   "cell_type": "markdown",
   "id": "63d9eda4",
   "metadata": {},
   "source": [
    "#### 2. Create a function power(base, exponent=2) that returns the result of base raised to the power of exponent.Demonstrate it with and without the exponent argument."
   ]
  },
  {
   "cell_type": "code",
   "execution_count": 2,
   "id": "56c9f434",
   "metadata": {},
   "outputs": [
    {
     "name": "stdout",
     "output_type": "stream",
     "text": [
      "Given base value :  2\n",
      "Reasult :  4\n"
     ]
    }
   ],
   "source": [
    "# 2) Solution\n",
    "\n",
    "def power_(base,exponent = 2):\n",
    "    return base**exponent\n",
    "\n",
    "base = int(input(\"Enter base : \"))\n",
    "print(\"Given base value : \",base)\n",
    "print(\"Reasult : \",power_(base))\n",
    "\n"
   ]
  },
  {
   "cell_type": "markdown",
   "id": "8dc86258",
   "metadata": {},
   "source": [
    "#### 3. Write a function book_info(title, author, year) that prints book details.Call the function using keyword arguments in different orders."
   ]
  },
  {
   "cell_type": "code",
   "execution_count": 3,
   "id": "0527f450",
   "metadata": {},
   "outputs": [
    {
     "name": "stdout",
     "output_type": "stream",
     "text": [
      " ~ ' 48 Laws of Power ' By Robert Greene in 1930 A.D. \n"
     ]
    }
   ],
   "source": [
    "# 3) Solution :\n",
    "\n",
    "def book_info(title,author,year):\n",
    "    print(f\" ~ ' {title} ' By {author} in {year} A.D. \")\n",
    "\n",
    "title = \"48 Laws of Power\"\n",
    "author = \"Robert Greene\"\n",
    "year = 1930\n",
    "book_info(author=author,title=title,year=year)\n",
    "\n"
   ]
  },
  {
   "cell_type": "markdown",
   "id": "2429650a",
   "metadata": {},
   "source": [
    "#### 4. Create a function sum_numbers(*args) that accepts any number of numeric arguments and returns their sum.Test it with 2, 3, and 5 numbers."
   ]
  },
  {
   "cell_type": "code",
   "execution_count": 4,
   "id": "98ba8ef6",
   "metadata": {},
   "outputs": [
    {
     "name": "stdout",
     "output_type": "stream",
     "text": [
      "Sum :  10\n"
     ]
    }
   ],
   "source": [
    "# 4) Solution :\n",
    "\n",
    "def sum_numbers(*kwargs):\n",
    "    return sum(kwargs) # kwargs = Tuple\n",
    "\n",
    "sum = sum_numbers(2,3,5)\n",
    "print(\"Sum : \",sum)\n",
    "\n",
    "\n"
   ]
  },
  {
   "cell_type": "markdown",
   "id": "b78a61cc",
   "metadata": {},
   "source": [
    "#### 5. Write a function student_profile(**kwargs) that prints the key-value pairs passed (e.g., name, age, grade). Call it with at least three named arguments."
   ]
  },
  {
   "cell_type": "code",
   "execution_count": 5,
   "id": "d5c11506",
   "metadata": {},
   "outputs": [
    {
     "name": "stdout",
     "output_type": "stream",
     "text": [
      "\n",
      "--- STUDENT INFORMATION ---\n",
      "Name : Samrat Malla\n",
      "Age : 19\n",
      "Grade : A\n",
      "\n",
      "--- STUDENT INFORMATION ---\n",
      "Name : Shyam Malla\n",
      "Age : 20\n",
      "Grade : B\n",
      "\n",
      "--- STUDENT INFORMATION ---\n",
      "Name : Ram Malla\n",
      "Age : 21\n",
      "Grade : C\n"
     ]
    }
   ],
   "source": [
    "# 5) Solution :\n",
    "\n",
    "def student_profile(**kwargs):\n",
    "    print(\"\\n--- STUDENT INFORMATION ---\")\n",
    "    print(\"Name :\",kwargs[\"name\"])\n",
    "    print(\"Age :\",kwargs[\"age\"])\n",
    "    print(\"Grade :\",kwargs[\"grade\"])\n",
    "\n",
    "student_1 = student_profile(name=\"Samrat Malla\",age = 19,grade=\"A\")\n",
    "student_2 = student_profile(name=\"Shyam Malla\",age = 20,grade=\"B\")\n",
    "student_2 = student_profile(name=\"Ram Malla\",age = 21,grade=\"C\")\n",
    "\n"
   ]
  },
  {
   "cell_type": "markdown",
   "id": "0a3e56ad",
   "metadata": {},
   "source": [
    "#### 6. Write a lambda function to compute the square of a number.Use it to compute the square of 5 and 12."
   ]
  },
  {
   "cell_type": "code",
   "execution_count": null,
   "id": "3442a0c7",
   "metadata": {},
   "outputs": [],
   "source": [
    "# 6) Solution :\n",
    "\n",
    "square_function = lambda x:x**2\n",
    "print(\"Square of 5 :\",square_function(5))\n",
    "print(\"Square of 12 :\",square_function(12))\n"
   ]
  },
  {
   "cell_type": "markdown",
   "id": "80255fc2",
   "metadata": {},
   "source": [
    "#### 7. Given a list of numbers [1, 2, 3, 4, 5], use map() and a lambda function to return a new list with each number doubled."
   ]
  },
  {
   "cell_type": "code",
   "execution_count": null,
   "id": "688f6d73",
   "metadata": {},
   "outputs": [],
   "source": [
    "# 7) Solution\n",
    "\n",
    "list_given = [1,2,3,4,5]\n",
    "print(\"Given list : \",list_given)\n",
    "double_list = list(map(lambda x:x*2,list_given))\n",
    "print(\"Doubled list : \",double_list)\n"
   ]
  },
  {
   "cell_type": "markdown",
   "id": "12bec1e8",
   "metadata": {},
   "source": [
    "#### 8. Given a list [10, 15, 20, 25, 30], use filter() and a lambda function to extract numbers divisible by 10."
   ]
  },
  {
   "cell_type": "code",
   "execution_count": null,
   "id": "b4873a68",
   "metadata": {},
   "outputs": [],
   "source": [
    "# 8) Solution :\n",
    "\n",
    "list_given = [10,15,20,25,30]\n",
    "div_10_list = list(filter(lambda x: x%10==0,list_given))\n",
    "print(\"Given list : \",list_given)\n",
    "print(\"Divisible by 10 : \",div_10_list)\n"
   ]
  },
  {
   "cell_type": "markdown",
   "id": "7bc1d72c",
   "metadata": {},
   "source": [
    "#### 9. Given a list of temperatures in Celsius [36.5, 37.0, 39.2, 35.6, 38.7],convert them to Fahrenheit using map(),Filter out those above 100°F using filter()."
   ]
  },
  {
   "cell_type": "code",
   "execution_count": 6,
   "id": "43729841",
   "metadata": {},
   "outputs": [
    {
     "name": "stdout",
     "output_type": "stream",
     "text": [
      "Given Celsius list : [36.5, 37.0, 39.2, 35.6, 38.7] C\n",
      "Calculated Fahrenheit list : [97.7, 98.6, 102.56, 96.08, 101.66] F\n",
      "High temperature Fahrenheit list : [102.56, 101.66] F\n"
     ]
    }
   ],
   "source": [
    "# 9) Solution :\n",
    "\n",
    "Celsius_list =  [36.5, 37.0, 39.2, 35.6, 38.7]\n",
    "converter_function = lambda x:(1.8*x)+32\n",
    "Fahrenheit_list = list(map(converter_function,Celsius_list))\n",
    "Fahrenheit_list = list(map(lambda x:round(x,3),Fahrenheit_list))\n",
    "High_temperature_list = list(filter(lambda x:x>100,Fahrenheit_list))\n",
    "print(\"Given Celsius list :\",Celsius_list,\"C\")\n",
    "print(\"Calculated Fahrenheit list :\",Fahrenheit_list,\"F\")\n",
    "print(\"High temperature Fahrenheit list :\",High_temperature_list,\"F\")\n",
    "\n",
    "\n"
   ]
  },
  {
   "cell_type": "markdown",
   "id": "e4c9183f",
   "metadata": {},
   "source": [
    "#### Mini Project: Simple To-Do Manager Using Functional Programming Objective: Manage a list of to-do tasks using functions, lambda, filter, and map. Requirements: ● Allow adding tasks using a function add_task(task_list, task_name). ● Each task is a dictionary: { \"name\": str, \"completed\": bool }. ● Use lambda and filter() to list only incomplete tasks. ● Use map() to mark all tasks as completed. ● Include a search_tasks(task_list, keyword) function using filter() and lambda. Sample Workflow: tasks = [] tasks = add_task(tasks, \"Buy groceries\") tasks = add_task(tasks, \"Finish assignment\") tasks = add_task(tasks, \"Call friend\")"
   ]
  },
  {
   "cell_type": "code",
   "execution_count": null,
   "id": "532850dc",
   "metadata": {},
   "outputs": [],
   "source": [
    "# To do list \n",
    "\n",
    "def add_task(task_list,task_name):\n",
    "    task_list.append(task_name)\n",
    "\n",
    "def return_pending_tasks(task_dictionary_list):\n",
    "    return_list = []\n",
    "    for dictionary in task_dictionary_list:\n",
    "            if dictionary[\"TASK COMPLETION\"] == False:\n",
    "                return_list.append(dictionary[\"TASK NAME\"])\n",
    "    return return_list\n",
    "\n",
    "def make_complete(task_dictionary_list):\n",
    "    for dictionary in task_dictionary_list:\n",
    "            dictionary.update({\"TASK COMPLETION\":True})\n",
    "\n",
    "def search_task_(search_task,task_dictionary_list):\n",
    "     for dictionary in task_dictionary_list:\n",
    "          if search_task == dictionary[\"TASK NAME\"]:\n",
    "               print(\"\\n\\n--- TASK FOUND ---\")\n",
    "               print(\"COMPLETION STATUS :\",dictionary[\"TASK COMPLETION\"])\n",
    "\n",
    "def check_exist(task,task_dictionary_list):\n",
    "    condition = False\n",
    "    for dictionary in task_dictionary_list:\n",
    "        if task in dictionary[\"TASK NAME\"]:\n",
    "             condition = True\n",
    "        break\n",
    "    return condition\n",
    "              \n",
    "task_list = []\n",
    "task_dictionary_list = []\n",
    "task_dictionary = {}\n",
    "Pending_task_list = []\n",
    "\n",
    "while True:\n",
    "\n",
    "    print(\"\\n\\n--- WELCOME to ' TO-DO-LIST MANAGER ' ---\")\n",
    "    \n",
    "    while True:\n",
    "        task = input(\"\\nEnter a task  : \")\n",
    "        add_task(task_list,task)\n",
    "\n",
    "        print(\"\\nPlease enter your choice DEAR USER :\")\n",
    "        print(f\"+--------------+-------------+\")\n",
    "        print(f\"| {\" CHOICE\":12} |{\"  OPTIONS\" :12} |\")\n",
    "        print(f\"+--------------+-------------+\")\n",
    "        print(f\"| {\" ENTER MORE\" :12} |{\"  1.\" :12} |\")\n",
    "        print(f\"+--------------+-------------+\")\n",
    "        print(f\"| {\" ENTER DONE\" :12} |{\"  2.\" :12} |\")\n",
    "        print(f\"+--------------+-------------+\")\n",
    "        \n",
    "        choice = int(input(\"\\nEnter choice : \"))\n",
    "        if choice == 2:\n",
    "            break\n",
    "        else:\n",
    "            continue\n",
    "\n",
    "    print(\"\\n\\nGiven tasks : \",task_list)\n",
    "\n",
    "    # FAULTY PART \n",
    "\n",
    "    ###\n",
    "    if (not check_exist(task,task_dictionary_list)):\n",
    "        for task in task_list:\n",
    "            task_dictionary = {}\n",
    "            task_dictionary.update({\"TASK NAME\":task})\n",
    "            task_dictionary.update({\"TASK COMPLETION\":False})\n",
    "            task_dictionary_list.append(task_dictionary)\n",
    "        \n",
    "    ###\n",
    "\n",
    "\n",
    "    print(\"\\nPlease enter your choice DEAR USER :\")\n",
    "    print(f\"+----------------------+-------------+\")\n",
    "    print(f\"| {\" CHOICE\":20} |{\"  OPTIONS\" :12} |\")\n",
    "    print(f\"+----------------------+-------------+\")\n",
    "    print(f\"| {\" SHOW PENDING\" :20} |{\"  1.\" :12} |\")\n",
    "    print(f\"+----------------------+-------------+\")\n",
    "    print(f\"| {\" DONT SHOW\" :20} |{\"  2.\" :12} |\")\n",
    "    print(f\"+----------------------+-------------+\")\n",
    "\n",
    "    choice = int(input(\"\\nEnter choice : \"))\n",
    "    if choice == 1:\n",
    "        print(\"\\n\\nPending tasks : \",return_pending_tasks(task_dictionary_list))\n",
    "\n",
    "    print(\"\\nPlease enter your choice DEAR USER :\")\n",
    "    print(f\"+----------------------+-------------+\")\n",
    "    print(f\"| {\" CHOICE\":20} |{\"  OPTIONS\" :12} |\")\n",
    "    print(f\"+----------------------+-------------+\")\n",
    "    print(f\"| {\" SEARCH\" :20} |{\"  1.\" :12} |\")\n",
    "    print(f\"+----------------------+-------------+\")\n",
    "    print(f\"| {\" DONT SEARCH\" :20} |{\"  2.\" :12} |\")\n",
    "    print(f\"+----------------------+-------------+\")\n",
    "\n",
    "    choice = int(input(\"\\nEnter choice : \"))\n",
    "\n",
    "    if choice == 1:\n",
    "        search_task = input(\"\\n\\nEnter the task to search : \")\n",
    "        search_task_(search_task,task_dictionary_list)\n",
    "\n",
    "\n",
    "    print(\"\\nPlease enter your choice DEAR USER :\")\n",
    "    print(f\"+----------------------+-------------+\")\n",
    "    print(f\"| {\" CHOICE\":20} |{\"  OPTIONS\" :12} |\")\n",
    "    print(f\"+----------------------+-------------+\")\n",
    "    print(f\"| {\" COMPLETE ALL\" :20} |{\"  1.\" :12} |\")\n",
    "    print(f\"+----------------------+-------------+\")\n",
    "    print(f\"| {\" DONT CHANGE\" :20} |{\"  2.\" :12} |\")\n",
    "    print(f\"+----------------------+-------------+\")\n",
    "\n",
    "    choice = int(input(\"\\nEnter choice : \"))\n",
    "\n",
    "    if choice == 1:\n",
    "        make_complete(task_dictionary_list)\n",
    "        Pending_task_list = []\n",
    "\n",
    "    print(\"\\nPlease enter your choice DEAR USER :\")\n",
    "    print(f\"+--------------+-------------+\")\n",
    "    print(f\"| {\" CHOICE\":12} |{\"  OPTIONS\" :12} |\")\n",
    "    print(f\"+--------------+-------------+\")\n",
    "    print(f\"| {\" RE-WIND\" :12} |{\"  1.\" :12} |\")\n",
    "    print(f\"+--------------+-------------+\")\n",
    "    print(f\"| {\" RE-SET\" :12} |{\"  2.\" :12} |\")\n",
    "    print(f\"+--------------+-------------+\")\n",
    "    print(f\"| {\" EXIT\" :12} |{\"  3.\" :12} |\")\n",
    "    print(f\"+--------------+-------------+\")\n",
    "        \n",
    "    choice = int(input(\"\\nEnter choice : \"))\n",
    "\n",
    "    if choice == 3:\n",
    "        print(\"\\n--- EXITING ---\")\n",
    "        print()\n",
    "        exit()\n",
    "\n",
    "    elif choice ==2 :\n",
    "         task_list = []\n",
    "    task_dictionary_list = []\n",
    "    task_dictionary = {}\n",
    "    Pending_task_list = []\n",
    "         \n",
    "\n",
    "\n",
    "\n",
    "\n",
    "\n",
    "\n",
    "\n",
    "\n",
    "\n"
   ]
  }
 ],
 "metadata": {
  "kernelspec": {
   "display_name": "Python 3",
   "language": "python",
   "name": "python3"
  },
  "language_info": {
   "codemirror_mode": {
    "name": "ipython",
    "version": 3
   },
   "file_extension": ".py",
   "mimetype": "text/x-python",
   "name": "python",
   "nbconvert_exporter": "python",
   "pygments_lexer": "ipython3",
   "version": "3.11.9"
  }
 },
 "nbformat": 4,
 "nbformat_minor": 5
}
