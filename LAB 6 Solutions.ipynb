{
 "cells": [
  {
   "cell_type": "markdown",
   "id": "35848070",
   "metadata": {},
   "source": [
    "## LAB - 6\n",
    "\n",
    "#### 1. Define a class Student with attributes name, roll_number, and marks. Implement a method display_info() that prints the details of the student. Create an instance of Student and call the display_info() method to display the student's details."
   ]
  },
  {
   "cell_type": "code",
   "execution_count": 1,
   "id": "8fae9b2e",
   "metadata": {},
   "outputs": [
    {
     "name": "stdout",
     "output_type": "stream",
     "text": [
      "\n",
      "--- STUDENT INFORMATION ---\n",
      "Name : Samrat Malla\n",
      "Roll number : 081-BEL-073\n",
      "Marks : 69\n",
      "\n"
     ]
    }
   ],
   "source": [
    "class Student:\n",
    "\n",
    "    def __init__(self,name,roll_number,marks):\n",
    "        self.name = name\n",
    "        self.roll_number = roll_number\n",
    "        self.marks = marks\n",
    "\n",
    "    def display_information(self):\n",
    "        print(\"\\n--- STUDENT INFORMATION ---\")\n",
    "        print(\"Name :\",self.name)\n",
    "        print(\"Roll number :\",self.roll_number)\n",
    "        print(\"Marks :\",self.marks)\n",
    "        print()\n",
    "\n",
    "student_object = Student(\"Samrat Malla\",\"081-BEL-073\",69)\n",
    "student_object.display_information()\n"
   ]
  },
  {
   "cell_type": "markdown",
   "id": "9fd53871",
   "metadata": {},
   "source": [
    "#### 2. Create a base class Animal with a method speak() that prints \"Animal makes a sound\". Derive a class Dog from Animal and override the speak() method to print \"Dog barks\". Instantiate the Dog class and call its speak() method."
   ]
  },
  {
   "cell_type": "code",
   "execution_count": 2,
   "id": "34f8a7f4",
   "metadata": {},
   "outputs": [
    {
     "name": "stdout",
     "output_type": "stream",
     "text": [
      "... DOG BARKS ...\n"
     ]
    }
   ],
   "source": [
    "class Animal:\n",
    "    def speak(self):\n",
    "        print(\"... ANIMAL MAKE SOUND ...\")\n",
    "\n",
    "class Dog(Animal):\n",
    "    def speak(self):\n",
    "        print(\"... DOG BARKS ...\")\n",
    "\n",
    "dog_obj = Dog()\n",
    "dog_obj.speak()\n"
   ]
  },
  {
   "cell_type": "markdown",
   "id": "6306e3a4",
   "metadata": {},
   "source": [
    "#### 3. Define a class BankAccount with private attributes account_number and balance. Implement methods to deposit and withdraw money, ensuring that the balance cannot go below zero. Provide a method to get the account details. Test the class by performing deposit and withdrawal operations."
   ]
  },
  {
   "cell_type": "code",
   "execution_count": 3,
   "id": "ff9c7a2d",
   "metadata": {},
   "outputs": [
    {
     "name": "stdout",
     "output_type": "stream",
     "text": [
      "\n",
      "--- WITHDRAWL SUCCESSFUL ---\n",
      "\n",
      "--- ACCOUNT DETAILS ---\n",
      "Account Number : 2062\n",
      "Balance : 5000 R.S\n",
      "\n"
     ]
    }
   ],
   "source": [
    "class BankAccount:\n",
    "    def __init__(self,account_number,balance):\n",
    "        self._accound_number = account_number\n",
    "        self._balance = balance\n",
    "\n",
    "    def get_balance(self):\n",
    "        return self._balance\n",
    "\n",
    "    def get_account_number(self):\n",
    "        return self._accound_number\n",
    "\n",
    "    def withdraw_money(self,cash):\n",
    "        if self.get_balance() < cash:\n",
    "            print(\"\\n--- INSUFFICIENT BALANCE ---\")\n",
    "\n",
    "        else :\n",
    "            print(\"\\n--- WITHDRAWL SUCCESSFUL ---\")\n",
    "            self._balance -= cash\n",
    "\n",
    "    def deposite_money(self,cash):\n",
    "        print(\"\\n--- DEPOSITE SUCCESSFUL ---\")\n",
    "        self._balance += cash\n",
    "\n",
    "    def show_details(self):\n",
    "        print(\"\\n--- ACCOUNT DETAILS ---\")\n",
    "        print(\"Account Number :\",self.get_account_number())\n",
    "        print(\"Balance :\",self.get_balance(),\"R.S\")\n",
    "        print()\n",
    "\n",
    "account_number = int(input(\"Enter account number : \"))\n",
    "initial_balance = int(input(\"Enter initial balance : \"))\n",
    "bank_obj = BankAccount(account_number,initial_balance)\n",
    "\n",
    "choice = int(input(\"Enter 1 for withdraw and 2 for deposite : \"))\n",
    "cash = int(input(\"Enter cash to withdraw/deposite : \"))\n",
    "\n",
    "if choice == 1:\n",
    "    bank_obj.withdraw_money(cash)\n",
    "\n",
    "elif choice ==2:\n",
    "    bank_obj.deposite_money(cash)\n",
    "\n",
    "bank_obj.show_details()\n",
    "\n",
    "\n"
   ]
  },
  {
   "cell_type": "markdown",
   "id": "4a1983bd",
   "metadata": {},
   "source": [
    "#### 4. Create a base class Shape with a method area(). Derive two classes Rectangle and Circle from Shape. Implement the area() method in both derived classes. Instantiate Rectangle and Circle, and demonstrate polymorphism by calling their area() methods."
   ]
  },
  {
   "cell_type": "code",
   "execution_count": 4,
   "id": "40af9c96",
   "metadata": {},
   "outputs": [
    {
     "name": "stdout",
     "output_type": "stream",
     "text": [
      "\n",
      "--- INPUT FOR RECTANGLE ---\n",
      "Area : 144 s.q. units\n",
      "\n",
      "--- INPUT FOR CIRCLE ---\n",
      "Area : 452.389 s.q. units\n"
     ]
    }
   ],
   "source": [
    "from abc import ABC,abstractmethod\n",
    "import math as m\n",
    "\n",
    "class Shape(ABC):\n",
    "\n",
    "    def area(self):\n",
    "        pass\n",
    "\n",
    "class Circle(Shape):\n",
    "    def __init__(self,radius):\n",
    "        super().__init__()\n",
    "        self.radius = radius\n",
    "\n",
    "    def area(self):\n",
    "        return round(m.pi * m.pow(self.radius,2),3)\n",
    "    \n",
    "class Rectangle(Shape):\n",
    "    def __init__(self,length,breadth):\n",
    "        super().__init__()  \n",
    "        self.length = length\n",
    "        self.breadth = breadth\n",
    "\n",
    "    def area(self):\n",
    "        return round(self.length * self.breadth,3)\n",
    "\n",
    "print(\"\\n--- INPUT FOR RECTANGLE ---\")\n",
    "length = int(input(\"Enter length : \"))\n",
    "breadth = int(input(\"Enter breadth : \"))\n",
    "rec_obj = Rectangle(length,breadth)\n",
    "area = rec_obj.area()\n",
    "print(f\"Area : {area} s.q. units\")\n",
    "\n",
    "print(\"\\n--- INPUT FOR CIRCLE ---\")\n",
    "radius = int(input(\"Enter radius : \"))\n",
    "cir_obj = Circle(radius)\n",
    "area = cir_obj.area()\n",
    "print(f\"Area : {area} s.q. units\")\n",
    "\n"
   ]
  },
  {
   "cell_type": "markdown",
   "id": "d05af746",
   "metadata": {},
   "source": [
    "#### 5. Define a class Person with attributes name and age. Derive a class Employee from Person with additional attributes employee_id and salary. Implement a method display_employee() in Employee that prints all the details. Create an instance of Employee and display the information."
   ]
  },
  {
   "cell_type": "code",
   "execution_count": 5,
   "id": "47e79d3e",
   "metadata": {},
   "outputs": [
    {
     "name": "stdout",
     "output_type": "stream",
     "text": [
      "\n",
      "--- EMPLOYEE INFORMATION ---\n",
      "Name : Samrat Malla\n",
      "Age : 19\n",
      "Employee ID : 2062\n",
      "Salary : 3000 R.S\n"
     ]
    }
   ],
   "source": [
    "class Person:\n",
    "    def __init__(self,name,age):\n",
    "        self.name = name\n",
    "        self.age = age\n",
    "\n",
    "class Employee(Person):\n",
    "    def __init__(self, name, age,emp_id,salary):\n",
    "        super().__init__(name, age)\n",
    "        self.emp_id = emp_id\n",
    "        self.salary = salary\n",
    "\n",
    "    def display_information(self):\n",
    "        print(\"\\n--- EMPLOYEE INFORMATION ---\")\n",
    "        print(\"Name :\",self.name)\n",
    "        print(\"Age :\",self.age)\n",
    "        print(\"Employee ID :\",self.emp_id)\n",
    "        print(\"Salary :\",self.salary,\"R.S\")\n",
    "\n",
    "emp_obj = Employee(\"Samrat Malla\",\"19\",\"2062\",\"3000\")\n",
    "emp_obj.display_information()\n"
   ]
  },
  {
   "cell_type": "markdown",
   "id": "f9825ffb",
   "metadata": {},
   "source": [
    "#### 6. Define a class Vector with attributes x and y. Overload the + operator to add two Vector objects. Implement the __add__() method and test it by adding two Vector instances."
   ]
  },
  {
   "cell_type": "code",
   "execution_count": 6,
   "id": "f85b9af0",
   "metadata": {},
   "outputs": [
    {
     "name": "stdout",
     "output_type": "stream",
     "text": [
      "Added vector : 4 i + 6 j\n"
     ]
    }
   ],
   "source": [
    "class Vector:\n",
    "    def __init__(self,x_comp,y_comp):\n",
    "        self.x_comp = x_comp\n",
    "        self.y_comp = y_comp\n",
    "\n",
    "    def __add__(self,obj):\n",
    "        new_x = self.x_comp + obj.x_comp\n",
    "        new_y = self.y_comp + obj.y_comp\n",
    "        return Vector(new_x,new_y)\n",
    "    \n",
    "x1,y1 = map(int,input(\"Enter 1st vector : \").split())\n",
    "x2,y2 = map(int,input(\"Enter 2nd vector : \").split())\n",
    "\n",
    "vec_obj_1 = Vector(x1,y1)\n",
    "vec_obj_2 = Vector(x2,y2)\n",
    "\n",
    "vec_add = vec_obj_1 + vec_obj_2\n",
    "print(f\"Added vector : {vec_add.x_comp} i + {vec_add.y_comp} j\")\n",
    "\n"
   ]
  },
  {
   "cell_type": "markdown",
   "id": "1e19a31f",
   "metadata": {},
   "source": [
    "#### 7. Create a class Book with attributes title and author. Overload the __str__() method to return a string representation of the Book object in the format \"Title by Author\". Test this method by printing a Book instance."
   ]
  },
  {
   "cell_type": "code",
   "execution_count": 7,
   "id": "ea979b1d",
   "metadata": {},
   "outputs": [
    {
     "name": "stdout",
     "output_type": "stream",
     "text": [
      "' ABC-XYZ ' By UVW EFG\n"
     ]
    }
   ],
   "source": [
    "class Book :\n",
    "    def __init__(self,title,author):\n",
    "        self.title = title\n",
    "        self.author = author\n",
    "\n",
    "    def __str__(self):\n",
    "        return f\"' {self.title} ' By {self.author}\"\n",
    "    \n",
    "book_obj = Book(\"ABC-XYZ\",\"UVW EFG\")\n",
    "print(book_obj)\n"
   ]
  },
  {
   "cell_type": "markdown",
   "id": "59d540d4",
   "metadata": {},
   "source": [
    "#### 8. Define a class Time with attributes hours, minutes, and seconds. Overload the == operator to compare two Time objects for equality. Implement the __eq__() method and test it by comparing two Time instances."
   ]
  },
  {
   "cell_type": "code",
   "execution_count": 8,
   "id": "89ffa260",
   "metadata": {},
   "outputs": [
    {
     "name": "stdout",
     "output_type": "stream",
     "text": [
      "--- TIME OBJECTS EQUAL ---\n"
     ]
    }
   ],
   "source": [
    "class Time:\n",
    "    def __init__(self,hour,min,sec):\n",
    "        self.hour = hour\n",
    "        self.min = min\n",
    "        self.sec = sec\n",
    "\n",
    "    def __eq__(self,obj):\n",
    "        if self.hour == obj.hour and self.sec == obj.sec and self.min == obj.min:\n",
    "            return True\n",
    "\n",
    "        else:\n",
    "            return False\n",
    "    \n",
    "time_obj_1 = Time(1,2,3)\n",
    "time_obj_2 = Time(1,2,3)\n",
    "\n",
    "if time_obj_1 == time_obj_2:\n",
    "    print(\"--- TIME OBJECTS EQUAL ---\")\n",
    "\n",
    "else:\n",
    "    print(\"--- TIME OBJECTS NOT EQUAL ---\")\n",
    "    \n"
   ]
  },
  {
   "cell_type": "markdown",
   "id": "7e984b29",
   "metadata": {},
   "source": [
    "#### 9. Define a class Person with attributes name and age. Define another class Address with attributes street, city, and zipcode. Create a Contact class that contains an instance of Person and Address. Implement methods to display the contact details. Create a Contact object and display its information."
   ]
  },
  {
   "cell_type": "code",
   "execution_count": 9,
   "id": "919880b9",
   "metadata": {},
   "outputs": [
    {
     "name": "stdout",
     "output_type": "stream",
     "text": [
      "\n",
      "--- CONTACT INFORMATION ---\n",
      "Name : Samrat Malla\n",
      "Age : 19\n",
      "Street : Pulchowk\n",
      "City : Kathmandu\n",
      "ZIP-CODE : 081-BEL-073\n"
     ]
    }
   ],
   "source": [
    "class Person:\n",
    "    def __init__(self,name,age):\n",
    "        self.name = name\n",
    "        self.age = age\n",
    "\n",
    "class Address:\n",
    "    def __init__(self,street,city,zipcode):\n",
    "        self.street = street\n",
    "        self.city = city\n",
    "        self.zipcode = zipcode\n",
    "\n",
    "class Contact(Person,Address):\n",
    "    def __init__(self,name,age,street,city,zipcode):\n",
    "        Person.__init__(self,name,age)\n",
    "        Address.__init__(self,street,city,zipcode)\n",
    "\n",
    "    def show_information(self):\n",
    "        print(\"\\n--- CONTACT INFORMATION ---\")\n",
    "        print(\"Name :\",self.name)\n",
    "        print(\"Age :\",self.age)\n",
    "        print(\"Street :\",self.street)\n",
    "        print(\"City :\",self.city)\n",
    "        print(\"ZIP-CODE :\",self.zipcode)\n",
    "\n",
    "contact_obj = Contact(\"Samrat Malla\",\"19\",\"Pulchowk\",\n",
    "                      \"Kathmandu\",\"081-BEL-073\")\n",
    "\n",
    "contact_obj.show_information()\n"
   ]
  }
 ],
 "metadata": {
  "kernelspec": {
   "display_name": "Python 3",
   "language": "python",
   "name": "python3"
  },
  "language_info": {
   "codemirror_mode": {
    "name": "ipython",
    "version": 3
   },
   "file_extension": ".py",
   "mimetype": "text/x-python",
   "name": "python",
   "nbconvert_exporter": "python",
   "pygments_lexer": "ipython3",
   "version": "3.11.9"
  }
 },
 "nbformat": 4,
 "nbformat_minor": 5
}
