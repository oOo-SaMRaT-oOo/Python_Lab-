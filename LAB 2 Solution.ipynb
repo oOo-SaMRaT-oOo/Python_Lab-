{
 "cells": [
  {
   "cell_type": "markdown",
   "id": "02400528",
   "metadata": {},
   "source": [
    "## LAB - 2\n",
    "\n",
    "#### 1. Write a program to input n numbers and store them in a list. Then perform the following operations: i Using built in functions ii without using built-in functions: a. Find the maximum and minimum number b. Sort the list in ascending order c. Remove duplicate elements "
   ]
  },
  {
   "cell_type": "code",
   "execution_count": 2,
   "id": "24cd8a28",
   "metadata": {},
   "outputs": [
    {
     "name": "stdout",
     "output_type": "stream",
     "text": [
      "Given list : [1, 2, 3, 4, 4]\n",
      "\n",
      "1. Use Library functions or 2. Use User-defined functions \n",
      "Max number :  4\n",
      "Min number :  1\n",
      "Ascending order :  [1, 2, 3, 4, 4]\n",
      "No duplicates :  [1, 2, 3, 4]\n"
     ]
    }
   ],
   "source": [
    "# 1) Solution\n",
    "\n",
    "def user_max(list_input):\n",
    "    g = list_input[0]\n",
    "    for i in list_input:\n",
    "        if i > g:\n",
    "            g = i\n",
    "    return g\n",
    "\n",
    "def user_min(list_input):\n",
    "    g = list_input[0]\n",
    "    for i in list_input:\n",
    "        if i < g:\n",
    "            g = i\n",
    "    return g\n",
    "\n",
    "def user_sort(list_input):\n",
    "    n = len(list_input)\n",
    "    for i in range(0,n,1):\n",
    "        for j in range(i+1,n):\n",
    "            if list_input[j]<list_input[i]:\n",
    "                list_input[j],list_input[i] = list_input[i],list_input[j]\n",
    "    return list_input\n",
    "\n",
    "def user_remove_duplicates(list_input):\n",
    "    unique_list = []\n",
    "    for value in list_input :\n",
    "        if value not in unique_list:\n",
    "            unique_list.append(value)\n",
    "    return unique_list\n",
    "\n",
    "list_input = []\n",
    "n = int(input(\"Enter number of terms : \"))\n",
    "for i in range(n):\n",
    "    number = int(input(\"Enter number : \"))\n",
    "    list_input.append(number)\n",
    "\n",
    "print(\"Given list :\",list_input)\n",
    "print(\"\\n1. Use Library functions or 2. Use User-defined functions \")\n",
    "choice = int(input(\"Enter choice : \"))\n",
    "if choice == 1:\n",
    "    print(\"Max number : \",max(list_input))\n",
    "    print(\"Min number : \",min(list_input))\n",
    "    list_input_copy = list_input.copy()\n",
    "    list_input_copy.sort()\n",
    "    print(\"Ascending order : \",list_input_copy)\n",
    "    print(\"No duplicates : \",list(set(list_input)))\n",
    "\n",
    "if choice ==2:\n",
    "    print(\"Max number : \",user_max(list_input))\n",
    "    print(\"Min number : \",user_min(list_input))\n",
    "    print(\"Ascending order : \",user_sort(list_input))\n",
    "    print(\"No duplicates : \",user_remove_duplicates(list_input))\n",
    "\n",
    "\n",
    "\n",
    "\n"
   ]
  },
  {
   "cell_type": "markdown",
   "id": "badeeb85",
   "metadata": {},
   "source": [
    "#### 2. Given two lists of integers, write a program to merge them into a single list and then remove the elements that are common in both."
   ]
  },
  {
   "cell_type": "code",
   "execution_count": 3,
   "id": "ef388724",
   "metadata": {},
   "outputs": [
    {
     "name": "stdout",
     "output_type": "stream",
     "text": [
      "1st list :  [1, 2, 3, 4, 5]\n",
      "2nd list :  [1, 2, 3, 6, 7]\n",
      "Required list :  [4, 5, 6, 7]\n"
     ]
    }
   ],
   "source": [
    "# 2) Solution \n",
    "\n",
    "list_1 = list(map(int,input(\"Enter numbers for 1st list : \").split()))\n",
    "list_2 = list(map(int,input(\"Enter numbers for 2nd list : \").split()))\n",
    "\n",
    "list_merged = list(set(list_1).union(set(list_2))-set(list_1).intersection(set(list_2)))\n",
    "\n",
    "print(\"1st list : \",list_1)\n",
    "print(\"2nd list : \",list_2)\n",
    "print(\"Required list : \",list_merged)\n",
    "\n"
   ]
  },
  {
   "cell_type": "markdown",
   "id": "5bf31b2f",
   "metadata": {},
   "source": [
    "#### 3. Create a program that reads a sentence from the user and stores each word as an element of a list. Then count the frequency of each word using only lists."
   ]
  },
  {
   "cell_type": "code",
   "execution_count": 4,
   "id": "e12fb8c8",
   "metadata": {},
   "outputs": [
    {
     "name": "stdout",
     "output_type": "stream",
     "text": [
      "Given sentence :  My name is Samrat Malla\n",
      "Word and its occurance :\n",
      "my : 1\n",
      "name : 1\n",
      "is : 1\n",
      "samrat : 1\n",
      "malla : 1\n"
     ]
    }
   ],
   "source": [
    "# 3) Solution\n",
    "\n",
    "input_sentence = input(\"Enter a sentence : \")\n",
    "words_list = input_sentence.lower().split()\n",
    "words_unique = []\n",
    "print(\"Given sentence : \",input_sentence)\n",
    "print(\"Word and its occurance :\")\n",
    "for word in words_list:\n",
    "    if word not in words_unique:\n",
    "        words_unique.append(word)\n",
    "        print(f\"{word} : {words_list.count(word)}\")\n"
   ]
  },
  {
   "cell_type": "markdown",
   "id": "6ef5b82e",
   "metadata": {},
   "source": [
    "#### 4. Write a program to simulate a basic stack and queue using a list. Provide options to push, pop (stack), enqueue, and dequeue (queue)."
   ]
  },
  {
   "cell_type": "code",
   "execution_count": null,
   "id": "c5b44db1",
   "metadata": {},
   "outputs": [],
   "source": [
    "# 4) Solution\n",
    "\n",
    "stack_list = []\n",
    "queue_list = []\n",
    "while True:\n",
    "    print(\"\\n+----------+---------------+\")\n",
    "    print(f\"|{\"Number\":10}|{\"ACTION\":15}|\")\n",
    "    print(\"+----------+---------------+\")\n",
    "    print(f\"|{\" 1.\":10}|{\" STACK\":15}|\")\n",
    "    print(\"+----------+---------------+\")\n",
    "    print(f\"|{\" 2.\":10}|{\" QUEUE\":15}|\")\n",
    "    print(\"+----------+---------------+\")\n",
    "    print(f\"|{\" 3.\":10}|{\" DISPLAY\":15}|\")\n",
    "    print(\"+----------+---------------+\")\n",
    "    print(f\"|{\" 4.\":10}|{\" EXIT\":15}|\")\n",
    "    print(\"+----------+---------------+\\n\")\n",
    "\n",
    "    choice = int(input(\"Enter choice : \"))\n",
    "\n",
    "    if choice == 1:\n",
    "        print(\"--- SELECTED STACK ---\")\n",
    "        print(\"\\n+----------+---------------+\")\n",
    "        print(f\"|{\"Number\":10}|{\"ACTION\":15}|\")\n",
    "        print(\"+----------+---------------+\")\n",
    "        print(f\"|{\" 1.\":10}|{\" PUSH\":15}|\")\n",
    "        print(\"+----------+---------------+\")\n",
    "        print(f\"|{\" 2.\":10}|{\" POP\":15}|\")\n",
    "        print(\"+----------+---------------+\\n\")\n",
    "        choice_stack = int(input(\"Enter choice : \"))\n",
    "        if choice_stack==1:\n",
    "            num = int(input(\"Enter a number : \"))\n",
    "            stack_list.insert(0,num)\n",
    "\n",
    "        if choice_stack==2:\n",
    "            stack_list.pop()\n",
    "\n",
    "    if choice == 2:\n",
    "        print(\"--- SELECTED QUEUE ---\")\n",
    "        print(\"\\n+----------+---------------+\")\n",
    "        print(f\"|{\"Number\":10}|{\"ACTION\":15}|\")\n",
    "        print(\"+----------+---------------+\")\n",
    "        print(f\"|{\" 1.\":10}|{\" ENQUEUE\":15}|\")\n",
    "        print(\"+----------+---------------+\")\n",
    "        print(f\"|{\" 2.\":10}|{\" DEQUEUE\":15}|\")\n",
    "        print(\"+----------+---------------+\\n\")\n",
    "        choice_queue = int(input(\"Enter choice : \"))\n",
    "        if choice_queue==1:\n",
    "            num = int(input(\"Enter a number : \"))\n",
    "            queue_list.append(num)\n",
    "\n",
    "        if choice_queue==2:\n",
    "            queue_list.pop(0)\n",
    "\n",
    "    if choice == 3:\n",
    "        print(\"STACK LIST : \",stack_list)\n",
    "        print(\"QUEUE LIST : \",queue_list)\n",
    "\n",
    "    if choice == 4:\n",
    "        print(\"--- EXITING ---\\n\")\n",
    "        exit()\n"
   ]
  },
  {
   "cell_type": "markdown",
   "id": "c4317ee4",
   "metadata": {},
   "source": [
    "#### 5. Write a Python function that accepts a list and returns a new list containing only the elements at even indexes and those that are prime numbers."
   ]
  },
  {
   "cell_type": "code",
   "execution_count": 5,
   "id": "3d834299",
   "metadata": {},
   "outputs": [
    {
     "name": "stdout",
     "output_type": "stream",
     "text": [
      "\n",
      "Given list :  [1, 2, 3, 4, 5, 6, 7, 8]\n",
      "Required list :  [3, 5, 7]\n"
     ]
    }
   ],
   "source": [
    "# 5) Solution\n",
    "\n",
    "def is_prime(num):\n",
    "    c = 0\n",
    "    for i in range(1,num+1):\n",
    "        if num%i==0:\n",
    "            c+=1\n",
    "    if c==2:\n",
    "        return True\n",
    "    return False\n",
    "\n",
    "list_input = list(map(int,input(\"Enter list of numbers : \").split()))\n",
    "list_idxeven_prime = []\n",
    "for i in range(0,len(list_input),2):\n",
    "    if is_prime(list_input[i]):\n",
    "        list_idxeven_prime.append(list_input[i])\n",
    "\n",
    "print(\"\\nGiven list : \",list_input)\n",
    "print(\"Required list : \",list_idxeven_prime)\n"
   ]
  },
  {
   "cell_type": "markdown",
   "id": "85b117cc",
   "metadata": {},
   "source": [
    "#### 6. Write a program to create a tuple of n numbers, then find: a. The average of the numbers b. The median c. The mode (without using libraries)"
   ]
  },
  {
   "cell_type": "code",
   "execution_count": 6,
   "id": "4432dc6e",
   "metadata": {},
   "outputs": [
    {
     "name": "stdout",
     "output_type": "stream",
     "text": [
      "Given tuple :  (1, 2, 3, 4, 5, 1, 2, 3, 4, 5, 5, 5, 5)\n",
      "Average :  3.462\n",
      "Median :  4\n",
      "Mode :  5\n"
     ]
    }
   ],
   "source": [
    "# 6) Solution\n",
    "\n",
    "list_number = list(map(int,input(\"Enter numbers : \").split()))\n",
    "tuple_number = tuple(list_number)\n",
    "sum = 0\n",
    "for num in list_number:\n",
    "    sum+=num\n",
    "avg = round(sum/(len(list_number)),3)\n",
    "print(\"Given tuple : \",tuple_number)\n",
    "print(\"Average : \",avg)\n",
    "list_number.sort()\n",
    "n = len(list_number)\n",
    "if n%2!=0:\n",
    "    print(\"Median : \",list_number[int(((n+1)/2)-1)])\n",
    "else:\n",
    "    print(\"Median : \",list_number[int(((n)/2)-1)])\n",
    "\n",
    "frequency_dict = {}\n",
    "for num in list_number:\n",
    "    if num not in frequency_dict.keys():\n",
    "        frequency_dict.update({num:list_number.count(num)})\n",
    "\n",
    "max_f = max(frequency_dict.values())\n",
    "for key,value in frequency_dict.items():\n",
    "    if value == max_f:\n",
    "        print(\"Mode : \",key)"
   ]
  },
  {
   "cell_type": "markdown",
   "id": "5de1add5",
   "metadata": {},
   "source": [
    "#### 7. Write a program that receives a list of tuples representing (x, y) coordinates. Determine whether the points form a straight line."
   ]
  },
  {
   "cell_type": "code",
   "execution_count": 1,
   "id": "1c3a564b",
   "metadata": {},
   "outputs": [
    {
     "name": "stdout",
     "output_type": "stream",
     "text": [
      "\n",
      "Given co-ordinates :  ((1, 2), (3, 4), (5, 6))\n",
      "--- POINTS FORM STRAIGHT LINE ---\n",
      "\n"
     ]
    }
   ],
   "source": [
    "# 7) Solution\n",
    "\n",
    "def find_slope(tuple_1,tuple_2):\n",
    "    return (tuple_2[1]-tuple_1[1])/(tuple_2[0]-tuple_1[0])\n",
    "\n",
    "tuple_coordinates = ()\n",
    "list_coordinates_total = []\n",
    "n = int(input(\"Enter number of co-ordinates : \"))\n",
    "for i in range(n):\n",
    "    list_coordinates = []\n",
    "    x,y = map(int,input(\"Enter co-ordinates : \").split())\n",
    "    list_coordinates.append(x)\n",
    "    list_coordinates.append(y)\n",
    "    list_coordinates_total.append(tuple(list_coordinates))\n",
    "tuple_coordinates = tuple(list_coordinates_total)\n",
    "\n",
    "print(\"\\nGiven co-ordinates : \",tuple_coordinates)\n",
    "\n",
    "slope = find_slope(tuple_coordinates[0],tuple_coordinates[1])\n",
    "condition_for_straight_line = True\n",
    "\n",
    "for i in range(0,len(tuple_coordinates)):\n",
    "    for j in range(i+1,len(tuple_coordinates)):\n",
    "        if find_slope(tuple_coordinates[i],tuple_coordinates[j]) != slope:\n",
    "            condition_for_straight_line = False\n",
    "            break\n",
    "\n",
    "if condition_for_straight_line:\n",
    "    print(\"--- POINTS FORM STRAIGHT LINE ---\")\n",
    "else:\n",
    "    print(\"--- POINTS DONT FORM STRAIGHT LINE ---\")\n",
    "\n",
    "print()\n"
   ]
  },
  {
   "cell_type": "markdown",
   "id": "e845b5ee",
   "metadata": {},
   "source": [
    "#### 8. Write a program to input two sets of student roll numbers: one who play cricket and another who play football. Find: a. Students who play both sports b. Students who play only one sport c. Students who play neither (given a master list of all students)"
   ]
  },
  {
   "cell_type": "code",
   "execution_count": 1,
   "id": "ae4e45a5",
   "metadata": {},
   "outputs": [
    {
     "name": "stdout",
     "output_type": "stream",
     "text": [
      "Both sports players :  {4, 5}\n",
      "Only one sport players :  {1, 2, 3, 6, 7, 8}\n",
      "Neither sports students :  {9, 10}\n"
     ]
    }
   ],
   "source": [
    "# 8) Solution\n",
    "\n",
    "master_set = set(map(int,input(\"Enter total student Roll : \").split()))\n",
    "set_cricket = set(map(int,input(\"Enter Roll of students who play cricket : \").split()))\n",
    "set_football = set(map(int,input(\"Enter Roll of students who play football : \").split()))\n",
    "set_both = set_cricket.intersection(set_football)\n",
    "set_only_one = set_football.union(set_cricket) - set_both\n",
    "set_neither = master_set - set_football.union(set_cricket)\n",
    "print(\"Both sports players : \",set_both)\n",
    "print(\"Only one sport players : \",set_only_one)\n",
    "print(\"Neither sports students : \",set_neither)\n",
    "\n",
    "\n"
   ]
  },
  {
   "cell_type": "markdown",
   "id": "8d2cf96b",
   "metadata": {},
   "source": [
    "#### 9. Create a set of random numbers. Add more numbers until the set has 10 unique elements. Also, remove the smallest and largest element."
   ]
  },
  {
   "cell_type": "code",
   "execution_count": 2,
   "id": "4e163e7f",
   "metadata": {},
   "outputs": [
    {
     "name": "stdout",
     "output_type": "stream",
     "text": [
      "Given set :  {98, 37, 15, 81, 18, 20, 24, 25, 58, 91}\n",
      "After deletion :  {37, 81, 18, 20, 24, 25, 58, 91}\n"
     ]
    }
   ],
   "source": [
    "# 9) Solution\n",
    "\n",
    "import random as r\n",
    "set_given = set() # {} means empty dictionary\n",
    "list_exp = []\n",
    "while True:\n",
    "    list_exp.append(r.randint(0,100))\n",
    "    set_given = set(list_exp)\n",
    "    if len(set_given) == 10:\n",
    "        break\n",
    "\n",
    "print(\"Given set : \",set_given)\n",
    "list_exp = list(set_given)\n",
    "list_exp.remove(max(list_exp))\n",
    "list_exp.remove(min(list_exp))\n",
    "set_given = set(list_exp)\n",
    "print(\"After deletion : \",set_given)\n",
    "\n"
   ]
  },
  {
   "cell_type": "markdown",
   "id": "a83f24f4",
   "metadata": {},
   "source": [
    "#### 10. Write a Python function that accepts a sentence and returns a set of all unique vowels used."
   ]
  },
  {
   "cell_type": "code",
   "execution_count": 4,
   "id": "4437e84f",
   "metadata": {},
   "outputs": [
    {
     "name": "stdout",
     "output_type": "stream",
     "text": [
      "\n",
      "Given sentence :  I am Samrat Malla.\n",
      "Unique vowels used :  {'a', 'I'}\n"
     ]
    }
   ],
   "source": [
    "# 10) Solution\n",
    "\n",
    "def return_unique_vowel(sentence):\n",
    "    vowel=\"AEIOUaeiou\"\n",
    "    vowel_list = []\n",
    "    for char in sentence :\n",
    "        if char in vowel:\n",
    "            vowel_list.append(char)\n",
    "\n",
    "    return set(vowel_list)\n",
    "\n",
    "sentence = input(\"Enter a sentence : \")\n",
    "print(\"\\nGiven sentence : \",sentence)\n",
    "print(\"Unique vowels used : \",return_unique_vowel(sentence))"
   ]
  },
  {
   "cell_type": "markdown",
   "id": "e654dd64",
   "metadata": {},
   "source": [
    "#### 11. Given a list of numbers with duplicates, use a set to remove the duplicates. Then, convert it back to a sorted list and display the result."
   ]
  },
  {
   "cell_type": "code",
   "execution_count": 5,
   "id": "6ed1878e",
   "metadata": {},
   "outputs": [
    {
     "name": "stdout",
     "output_type": "stream",
     "text": [
      "Given original list :  [1, 2, 3, 4, 5, 5, 4, 3, 2, 1]\n",
      "Sorted no duplicate list :  [1, 2, 3, 4, 5]\n"
     ]
    }
   ],
   "source": [
    "# 11) Solution\n",
    "\n",
    "list_dup = list(map(int,input(\"Enter numbers with duplicates : \").split()))\n",
    "list_no_dup = list(set(list_dup))\n",
    "list_no_dup.sort()\n",
    "print(\"Given original list : \",list_dup)\n",
    "print(\"Sorted no duplicate list : \",list_no_dup)\n"
   ]
  },
  {
   "cell_type": "markdown",
   "id": "d24937f1",
   "metadata": {},
   "source": [
    "#### 12. Create a dictionary to store student names as keys and their scores in three subjects as values (in a list). Write functions to: a. Display the average marks of each student b. Find the topper c. Update the marks of a student"
   ]
  },
  {
   "cell_type": "code",
   "execution_count": 7,
   "id": "9507bd1b",
   "metadata": {},
   "outputs": [
    {
     "name": "stdout",
     "output_type": "stream",
     "text": [
      "\n",
      "\n",
      "Given dictionary :  {'A': [1, 2, 3], 'B': [4, 5, 6]}\n",
      "\n",
      "--- AVERAGE MARKS ---\n",
      "A : 2.0\n",
      "B : 5.0\n",
      "\n",
      "Topper : B\n",
      "\n",
      "New dictionary :  {'A': [7, 8, 9], 'B': [4, 5, 6]}\n"
     ]
    }
   ],
   "source": [
    "# 12) Solution\n",
    "\n",
    "def list_average(list_input):\n",
    "    sum = 0\n",
    "    for value in list_input:\n",
    "        sum += value\n",
    "    return round(sum/len(list_input),3) \n",
    "\n",
    "n = int(input(\"Enter number of students to input : \"))\n",
    "student_dictionary = {}\n",
    "for i in range(n):\n",
    "    name = input(\"Enter name : \")\n",
    "    marks_list = list(map(int,input(\"Enter marks in 3 subjects : \").split()))\n",
    "    student_dictionary.update({name:marks_list})\n",
    "    print()\n",
    "\n",
    "print(\"Given dictionary : \",student_dictionary)\n",
    "print(\"\\n--- AVERAGE MARKS ---\")\n",
    "\n",
    "average_list = []\n",
    "\n",
    "for key,value in student_dictionary.items():\n",
    "    print(f\"{key} : {list_average(value)}\")\n",
    "    average_list.append(list_average(value))\n",
    "\n",
    "for key,value in student_dictionary.items():\n",
    "    if list_average(value) == max(average_list):\n",
    "        print(f\"\\nTopper : {key}\")\n",
    "\n",
    "name_update = input(\"\\nEnter name of student to update marks : \")\n",
    "marks_updated = list(map(int,input(\"Enter updated marks in three subjects : \").split()))\n",
    "\n",
    "for key,value in student_dictionary.items():\n",
    "    if key.lower() == name_update.lower():\n",
    "        student_dictionary.update({key:marks_updated})\n",
    "\n",
    "print(\"\\nNew dictionary : \",student_dictionary)\n",
    "\n"
   ]
  },
  {
   "cell_type": "markdown",
   "id": "a0ce2c3e",
   "metadata": {},
   "source": [
    "#### 13. Write a program that reads a text and counts the frequency of each character (excluding spaces and special characters) using a dictionary."
   ]
  },
  {
   "cell_type": "code",
   "execution_count": 1,
   "id": "7aebaf62",
   "metadata": {},
   "outputs": [
    {
     "name": "stdout",
     "output_type": "stream",
     "text": [
      "Given text :  My name is Samrat Malla.\n",
      "Frequency dictionary :  {'M': 2, 'y': 1, 'n': 1, 'a': 5, 'm': 2, 'e': 1, 'i': 1, 's': 1, 'S': 1, 'r': 1, 't': 1, 'l': 2}\n"
     ]
    }
   ],
   "source": [
    "# 13) Solution\n",
    "\n",
    "text_input = input(\"Enter a text : \")\n",
    "condition_l  =\"abcdefghijklmnopqrstuvwxyz\"\n",
    "condition_u = condition_l.upper()\n",
    "text_required = []\n",
    "dict_counter = {}\n",
    "\n",
    "for char in text_input:\n",
    "    if char in condition_l or char in condition_u:\n",
    "        if char not in dict_counter.keys():\n",
    "            dict_counter.update({char:text_input.count(char)})\n",
    "\n",
    "print(\"Given text : \",text_input)\n",
    "print(\"Frequency dictionary : \",dict_counter)\n"
   ]
  },
  {
   "cell_type": "markdown",
   "id": "9a3fff64",
   "metadata": {},
   "source": [
    "#### 14. Build a dictionary where the keys are product names and the values are their prices. Implement options to: a. Add a new product b. Update price of an existing product c. Find products within a given price range"
   ]
  },
  {
   "cell_type": "code",
   "execution_count": 2,
   "id": "d35d317b",
   "metadata": {},
   "outputs": [
    {
     "name": "stdout",
     "output_type": "stream",
     "text": [
      "\n",
      "\n",
      "Given product and price : \n",
      "Milk : 100\n",
      "Coffee : 100\n",
      "\n",
      "Want to add more ? No - (n) \n",
      "\n",
      "Want to add more ? No - (n) \n",
      "\n",
      "Want to  change existing product price ? No - (n) \n",
      "\n",
      "Want to  change existing product price ? No - (n) \n",
      "\n",
      "Product in price range : \n",
      "Milk : 100 R.s\n",
      "Coffee : 50 R.s\n",
      "Tea : 50 R.s\n"
     ]
    }
   ],
   "source": [
    "# 14) Solution\n",
    "\n",
    "n = int(input(\"Enter number of items to add : \"))\n",
    "product_dict = {}\n",
    "for i in range(n):\n",
    "    key = input(\"Enter product name : \")\n",
    "    value = int(input(\"Enter the price : \"))\n",
    "    print()\n",
    "    product_dict.update({key:value})\n",
    "\n",
    "print(\"Given product and price : \")\n",
    "for key,value in product_dict.items():\n",
    "    print(f\"{key} : {value}\")\n",
    "\n",
    "print()\n",
    "\n",
    "while True : \n",
    "    print(\"Want to add more ? No - (n) \")\n",
    "    choice = input(\"Enter choice : \")\n",
    "    if choice.lower() == 'n':\n",
    "        break\n",
    "    key = input(\"Enter name of new product : \")\n",
    "    value = int(input(\"Enter price of new product : \"))\n",
    "    print()\n",
    "    product_dict.update({key:value})\n",
    "\n",
    "print()\n",
    "\n",
    "while True :\n",
    "    print(\"Want to  change existing product price ? No - (n) \")\n",
    "    choice = input(\"Enter choice : \")\n",
    "    if choice.lower() == 'n':\n",
    "        break\n",
    "    key = input(\"Enter name of product to change price : \")\n",
    "    value = int(input(\"Enter new price : \"))\n",
    "    print()\n",
    "    product_dict.update({key:value})\n",
    "\n",
    "a,b = map(int,input(\"Enter the given price range : \").split())\n",
    "print(\"\\nProduct in price range : \")\n",
    "\n",
    "for key,value in product_dict.items():\n",
    "    if value <=b and value >=a :\n",
    "        print(f\"{key} : {value} R.s\")\n",
    "    \n",
    "\n",
    "\n",
    "\n"
   ]
  },
  {
   "cell_type": "markdown",
   "id": "6b542b81",
   "metadata": {},
   "source": [
    "#### MINI PROJECT: Student Report Card Management System Problem Statement: Design and implement a Student Report Card Management System using Python that allows a teacher to: ● Add new student records (name, roll number, subject-wise marks). ● View the report of all students. ● Display the topper(s) of the class based on average marks. ● Search for a student by roll number. ● Display all students who have failed in one or more subjects. ● Optionally update marks of any student."
   ]
  },
  {
   "cell_type": "code",
   "execution_count": null,
   "id": "5315d49d",
   "metadata": {},
   "outputs": [],
   "source": [
    "# STUDENT MANAGEMENT SYSTEM\n",
    "\n",
    "print(\"--- WELCOME TO STUDENT REPORT CARD MANAGEMENT SYSTEM ---\")\n",
    "print(\"\\n--- PLEASE ENTER THE ASKED DATA ---\")\n",
    "s1,s2,s3 = input(\"\\nEnter 3 subject names : \").split()\n",
    "student_dictionary = {}\n",
    "total_marks_list = []\n",
    "fail_student_list = []\n",
    "while True:\n",
    "    marks_list  = []\n",
    "    info_list = []\n",
    "    _list = []\n",
    "    name = input(\"Enter name of student : \")\n",
    "    roll = int(input(\"Enter roll number of student : \"))\n",
    "    marks_list = list(map(int,input(f\"Enter marks in {s1}, {s2} and {s3} : \").split()))\n",
    "    if marks_list[0]<32 or marks_list[1]<32 or marks_list[2] < 32 :\n",
    "        fail_student_list.append(name)\n",
    "    total_marks_list.append(sum(marks_list))\n",
    "    _list.append(roll)\n",
    "    _list.append(marks_list)\n",
    "    info_list.append(_list)\n",
    "    student_dictionary.update({name:info_list})\n",
    "    print(\"\\nWant to continue ? No - > N : \")\n",
    "    choice = input(\"Enter your choice : \")\n",
    "    if choice.lower() == 'n' :\n",
    "        break\n",
    "    \n",
    "topper_marks = max(total_marks_list)\n",
    "while True :\n",
    "    print(\"\\nWant to know topper ? \")\n",
    "    choice = input(\"Enter choice : YES - 'Y' : \")\n",
    "    if choice.upper() == 'Y':\n",
    "        for key,value in student_dictionary.items():\n",
    "            if topper_marks == sum(value[0][1]):  \n",
    "                print(f\"\\n... TOPPER : {key} .... \")\n",
    "        break\n",
    "    break\n",
    "    \n",
    "while True:\n",
    "    print(\"\\nWant to search student by roll_number ? \")\n",
    "    choice = input(\"Enter choice : YES - 'Y' : \")\n",
    "    if choice.upper() == 'Y':\n",
    "        roll = int(input(\"Enter roll number to search  : \"))\n",
    "        for key,value in student_dictionary.items():\n",
    "            if roll in value[0]:\n",
    "                print(\"\\n... STUDENT FOUND ...\")\n",
    "                print(f\"Name : {key}\")\n",
    "                continue\n",
    "            else:\n",
    "                print(\"\\n... STUDENT NOT FOUND ....\")\n",
    "                continue\n",
    "    else:\n",
    "        break\n",
    "\n",
    "print(\"\\nWant to view failed students ? YES - 'Y' \")\n",
    "choice = input(\"Enter choice : YES - 'Y' : \")\n",
    "if choice.upper() == 'Y':\n",
    "    print(\"\\n... FAILED STUDENTS ... \")\n",
    "    print(fail_student_list)\n",
    "\n",
    "while True :\n",
    "    print(\"\\nWant to update marks of student ? No - 'N' : \")\n",
    "    choice = input(\"Enter choice : \")\n",
    "    if choice.lower() == 'n':\n",
    "        break\n",
    "    roll = int(input(\"Enter rollnumber of student : \"))\n",
    "    for key,value in student_dictionary.items():\n",
    "        if roll in value[0]:\n",
    "            print(\"... STUDENT FOUND ...\")\n",
    "            print(f\"Name : {key}\")\n",
    "            marks_list  = []\n",
    "            info_list = []\n",
    "            _list = []\n",
    "            marks_list = list(map(int,input(f\"Enter new marks in {s1}, {s2} and {s3} : \").split()))\n",
    "            if marks_list[0]<32 or marks_list[1]<32 or marks_list[2] < 32 :\n",
    "                fail_student_list.append(name)\n",
    "            total_marks_list.append(sum(marks_list))\n",
    "            _list.append(roll)\n",
    "            _list.append(marks_list)\n",
    "            info_list.append(_list)\n",
    "            student_dictionary.update({name:info_list})\n",
    "            continue\n",
    "        else:\n",
    "            print(\"... STUDENT NOT FOUND ....\")\n",
    "            continue\n",
    "\n",
    "\n",
    "while True:\n",
    "    print(\"\\nWant to view student's report card ? YES -'Y' : \")\n",
    "    choice = input(\"Enter choice : YES - 'Y' : \")\n",
    "    if choice.upper() == 'Y':\n",
    "        roll = int(input(\"Enter roll number of student : \"))\n",
    "        for key,value in student_dictionary.items():\n",
    "            if roll == value[0][0]:\n",
    "                print(\"\\n--- STUDENT FOUND ---\")\n",
    "                print(\"--- VIEWING REPORT CARD ---\\n\")\n",
    "                print(\"\\n          --- MARKSHEET ---\")\n",
    "                percentage = sum(value[0][1])/300\n",
    "                if key in fail_student_list:\n",
    "                    pass_condition = \"FAIL\"\n",
    "                else:\n",
    "                    pass_condition = \"PASS\"\n",
    "                marks_list = value[0][1]\n",
    "                print(f\"+-------------------------------------+\")\n",
    "                print(f\"| Name : {key:<28} |\")\n",
    "                print(f\"+-------------------------------------+\")\n",
    "                print(f\"| Roll Number : {value[0][0]:<22}|\")\n",
    "                print(f\"+-------------------------------------+\")\n",
    "                print(f\"| Percentage : {percentage*100:.2f}%{'':15}  |\")\n",
    "                print(f\"+-------------------------------------+\")\n",
    "                print(f\"| Pass Condition : {pass_condition:<17}  |\")\n",
    "                print(f\"+-------------------------------------+\")\n",
    "                print(f\"|{'S.N.':6} | {' SUBJECT':15}  | {' MARKS':9}|\")\n",
    "                print(f\"+-------------------------------------+\")\n",
    "                print(f\"|{' 1.':6} |  {s1:<15} |{marks_list[0]:<10}|\")\n",
    "                print(f\"+-------------------------------------+\")\n",
    "                print(f\"|{' 2.':6} |  {s2:<15} |{marks_list[1]:<10}|\")\n",
    "                print(f\"+-------------------------------------+\")\n",
    "                print(f\"|{' 3.':6} |  {s3:<15} |{marks_list[2]:<10}|\")\n",
    "                print(f\"+-------------------------------------+\")\n",
    "                continue\n",
    "    else:\n",
    "        break\n",
    "\n",
    "print(\"--- EXITING SYSTEM ---\\n\")\n",
    "exit()\n"
   ]
  }
 ],
 "metadata": {
  "kernelspec": {
   "display_name": "Python 3",
   "language": "python",
   "name": "python3"
  },
  "language_info": {
   "codemirror_mode": {
    "name": "ipython",
    "version": 3
   },
   "file_extension": ".py",
   "mimetype": "text/x-python",
   "name": "python",
   "nbconvert_exporter": "python",
   "pygments_lexer": "ipython3",
   "version": "3.11.9"
  }
 },
 "nbformat": 4,
 "nbformat_minor": 5
}
